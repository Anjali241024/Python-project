{
 "cells": [
  {
   "cell_type": "code",
   "execution_count": 6,
   "id": "e134cc0c-e54a-49b3-984f-fd36992f3a5d",
   "metadata": {},
   "outputs": [
    {
     "name": "stdout",
     "output_type": "stream",
     "text": [
      "\n",
      "Contact Organizer\n",
      "1. Add Contact\n",
      "2. Delete Contact\n",
      "3. Edit Contact\n",
      "4. Search Contact\n",
      "5. Sort Contacts\n",
      "6. Display Contacts\n",
      "7. Exit\n"
     ]
    },
    {
     "name": "stdin",
     "output_type": "stream",
     "text": [
      "Choose an option (1-7):  1\n",
      "Enter name:  Anjali\n",
      "Enter phone number:  123456\n",
      "Enter email:  anjali@gmail.com\n"
     ]
    },
    {
     "name": "stdout",
     "output_type": "stream",
     "text": [
      "Contact added successfully!\n",
      "\n",
      "Contact Organizer\n",
      "1. Add Contact\n",
      "2. Delete Contact\n",
      "3. Edit Contact\n",
      "4. Search Contact\n",
      "5. Sort Contacts\n",
      "6. Display Contacts\n",
      "7. Exit\n"
     ]
    },
    {
     "name": "stdin",
     "output_type": "stream",
     "text": [
      "Choose an option (1-7):  1\n",
      "Enter name:  Ritika\n",
      "Enter phone number:  876543\n",
      "Enter email:  ritika1@gmail.com\n"
     ]
    },
    {
     "name": "stdout",
     "output_type": "stream",
     "text": [
      "Contact added successfully!\n",
      "\n",
      "Contact Organizer\n",
      "1. Add Contact\n",
      "2. Delete Contact\n",
      "3. Edit Contact\n",
      "4. Search Contact\n",
      "5. Sort Contacts\n",
      "6. Display Contacts\n",
      "7. Exit\n"
     ]
    },
    {
     "name": "stdin",
     "output_type": "stream",
     "text": [
      "Choose an option (1-7):  1\n",
      "Enter name:  emily\n",
      "Enter phone number:  2345689\n",
      "Enter email:  emily@gmail.com\n"
     ]
    },
    {
     "name": "stdout",
     "output_type": "stream",
     "text": [
      "Contact added successfully!\n",
      "\n",
      "Contact Organizer\n",
      "1. Add Contact\n",
      "2. Delete Contact\n",
      "3. Edit Contact\n",
      "4. Search Contact\n",
      "5. Sort Contacts\n",
      "6. Display Contacts\n",
      "7. Exit\n"
     ]
    },
    {
     "name": "stdin",
     "output_type": "stream",
     "text": [
      "Choose an option (1-7):  2\n",
      "Enter name of the contact to delete:  Ritika\n"
     ]
    },
    {
     "name": "stdout",
     "output_type": "stream",
     "text": [
      "Contact deleted successfully!\n",
      "\n",
      "Contact Organizer\n",
      "1. Add Contact\n",
      "2. Delete Contact\n",
      "3. Edit Contact\n",
      "4. Search Contact\n",
      "5. Sort Contacts\n",
      "6. Display Contacts\n",
      "7. Exit\n"
     ]
    },
    {
     "name": "stdin",
     "output_type": "stream",
     "text": [
      "Choose an option (1-7):  3\n",
      "Enter name of the contact to edit:  anjali\n",
      "Enter new name (leave blank to keep unchanged):  \n",
      "Enter new phone number (leave blank to keep unchanged):  \n",
      "Enter new email (leave blank to keep unchanged):  \n"
     ]
    },
    {
     "name": "stdout",
     "output_type": "stream",
     "text": [
      "Contact updated successfully!\n",
      "\n",
      "Contact Organizer\n",
      "1. Add Contact\n",
      "2. Delete Contact\n",
      "3. Edit Contact\n",
      "4. Search Contact\n",
      "5. Sort Contacts\n",
      "6. Display Contacts\n",
      "7. Exit\n"
     ]
    },
    {
     "name": "stdin",
     "output_type": "stream",
     "text": [
      "Choose an option (1-7):  4\n",
      "Enter name to search:  emily\n"
     ]
    },
    {
     "name": "stdout",
     "output_type": "stream",
     "text": [
      "Search Results:\n",
      "Contact(name=emily, phone_number=2345689, email=emily@gmail.com)\n",
      "\n",
      "Contact Organizer\n",
      "1. Add Contact\n",
      "2. Delete Contact\n",
      "3. Edit Contact\n",
      "4. Search Contact\n",
      "5. Sort Contacts\n",
      "6. Display Contacts\n",
      "7. Exit\n"
     ]
    },
    {
     "name": "stdin",
     "output_type": "stream",
     "text": [
      "Choose an option (1-7):  6\n"
     ]
    },
    {
     "name": "stdout",
     "output_type": "stream",
     "text": [
      "Contact List:\n",
      "Contact(name=Anjali, phone_number=123456, email=anjali@gmail.com)\n",
      "Contact(name=emily, phone_number=2345689, email=emily@gmail.com)\n",
      "\n",
      "Contact Organizer\n",
      "1. Add Contact\n",
      "2. Delete Contact\n",
      "3. Edit Contact\n",
      "4. Search Contact\n",
      "5. Sort Contacts\n",
      "6. Display Contacts\n",
      "7. Exit\n"
     ]
    },
    {
     "name": "stdin",
     "output_type": "stream",
     "text": [
      "Choose an option (1-7):  7\n"
     ]
    },
    {
     "name": "stdout",
     "output_type": "stream",
     "text": [
      "Exiting Contact Organizer. Goodbye!\n"
     ]
    }
   ],
   "source": [
    "class Contact:\n",
    "    def __init__(self, name, phone_number, email):\n",
    "        self.name = name\n",
    "        self.phone_number = phone_number\n",
    "        self.email = email\n",
    "\n",
    "    def __repr__(self):\n",
    "        return f\"Contact(name={self.name}, phone_number={self.phone_number}, email={self.email})\"\n",
    "\n",
    "def quick_sort(contacts, key):\n",
    "    if len(contacts) <= 1:\n",
    "        return contacts\n",
    "\n",
    "    pivot = contacts[0]\n",
    "    less = [contact for contact in contacts[1:] if getattr(contact, key) <= getattr(pivot, key)]\n",
    "    greater = [contact for contact in contacts[1:] if getattr(contact, key) > getattr(pivot, key)]\n",
    "\n",
    "    return quick_sort(less, key) + [pivot] + quick_sort(greater, key)\n",
    "\n",
    "class ContactOrganizer:\n",
    "    def __init__(self):\n",
    "        self.contacts = []\n",
    "\n",
    "    def add_contact(self, name, phone_number, email):\n",
    "        contact = Contact(name, phone_number, email)\n",
    "        self.contacts.append(contact)\n",
    "\n",
    "    def delete_contact(self, name):\n",
    "        self.contacts = [contact for contact in self.contacts if contact.name != name]\n",
    "\n",
    "    def edit_contact(self, name, new_name=None, new_phone=None, new_email=None):\n",
    "        for contact in self.contacts:\n",
    "            if contact.name.lower() == name.lower():\n",
    "                if new_name:\n",
    "                    contact.name = new_name\n",
    "                if new_phone:\n",
    "                    contact.phone_number = new_phone\n",
    "                if new_email:\n",
    "                    contact.email = new_email\n",
    "                return True\n",
    "        return False\n",
    "\n",
    "    def search_contact(self, name):\n",
    "        return [contact for contact in self.contacts if name.lower() in contact.name.lower()]\n",
    "\n",
    "    def sort_contacts(self, key='name'):\n",
    "        if key in ['name', 'phone_number', 'email']:\n",
    "            self.contacts = quick_sort(self.contacts, key)\n",
    "\n",
    "    def display_contacts(self):\n",
    "        for contact in self.contacts:\n",
    "            print(contact)\n",
    "\n",
    "def main():\n",
    "    organizer = ContactOrganizer()\n",
    "    \n",
    "    while True:\n",
    "        print(\"\\nContact Organizer\")\n",
    "        print(\"1. Add Contact\")\n",
    "        print(\"2. Delete Contact\")\n",
    "        print(\"3. Edit Contact\")\n",
    "        print(\"4. Search Contact\")\n",
    "        print(\"5. Sort Contacts\")\n",
    "        print(\"6. Display Contacts\")\n",
    "        print(\"7. Exit\")\n",
    "        \n",
    "        choice = input(\"Choose an option (1-7): \")\n",
    "        \n",
    "        if choice == '1':\n",
    "            name = input(\"Enter name: \")\n",
    "            phone = input(\"Enter phone number: \")\n",
    "            email = input(\"Enter email: \")\n",
    "            organizer.add_contact(name, phone, email)\n",
    "            print(\"Contact added successfully!\")\n",
    "        \n",
    "        elif choice == '2':\n",
    "            name = input(\"Enter name of the contact to delete: \")\n",
    "            organizer.delete_contact(name)\n",
    "            print(\"Contact deleted successfully!\")\n",
    "        \n",
    "        elif choice == '3':\n",
    "            name = input(\"Enter name of the contact to edit: \")\n",
    "            new_name = input(\"Enter new name (leave blank to keep unchanged): \")\n",
    "            new_phone = input(\"Enter new phone number (leave blank to keep unchanged): \")\n",
    "            new_email = input(\"Enter new email (leave blank to keep unchanged): \")\n",
    "            if organizer.edit_contact(name, new_name or None, new_phone or None, new_email or None):\n",
    "                print(\"Contact updated successfully!\")\n",
    "            else:\n",
    "                print(\"Contact not found.\")\n",
    "        \n",
    "        elif choice == '4':\n",
    "            name = input(\"Enter name to search: \")\n",
    "            results = organizer.search_contact(name)\n",
    "            if results:\n",
    "                print(\"Search Results:\")\n",
    "                for contact in results:\n",
    "                    print(contact)\n",
    "            else:\n",
    "                print(\"No contacts found.\")\n",
    "        \n",
    "        elif choice == '5':\n",
    "            sort_key = input(\"Enter sorting criterion ('name', 'phone_number', or 'email'): \").strip()\n",
    "            if sort_key in ['name', 'phone_number', 'email']:\n",
    "                organizer.sort_contacts(sort_key)\n",
    "                print(f\"Contacts sorted by {sort_key}.\")\n",
    "            else:\n",
    "                print(\"Invalid sorting criterion.\")\n",
    "        \n",
    "        elif choice == '6':\n",
    "            print(\"Contact List:\")\n",
    "            organizer.display_contacts()\n",
    "        \n",
    "        elif choice == '7':\n",
    "            print(\"Exiting Contact Organizer. Goodbye!\")\n",
    "            break\n",
    "        \n",
    "        else:\n",
    "            print(\"Invalid choice. Please choose a valid option.\")\n",
    "\n",
    "if __name__ == \"__main__\":\n",
    "    main()\n"
   ]
  },
  {
   "cell_type": "code",
   "execution_count": 6,
   "id": "24ef8fb3-a725-4a2a-8ffa-ef750755d9af",
   "metadata": {},
   "outputs": [
    {
     "name": "stdout",
     "output_type": "stream",
     "text": [
      "\n",
      "Contact Organizer\n",
      "1. Add Contact\n",
      "2. Delete Contact\n",
      "3. Edit Contact\n",
      "4. Search Contact\n",
      "5. Sort Contacts\n",
      "6. Display Contacts\n",
      "7. Exit\n"
     ]
    },
    {
     "name": "stdin",
     "output_type": "stream",
     "text": [
      "Choose an option (1-7):  1\n",
      "Enter name:  Anjali\n",
      "Enter phone number:  123456\n",
      "Enter email:  anjali@gmail.com\n"
     ]
    },
    {
     "name": "stdout",
     "output_type": "stream",
     "text": [
      "Contact added successfully!\n",
      "\n",
      "Contact Organizer\n",
      "1. Add Contact\n",
      "2. Delete Contact\n",
      "3. Edit Contact\n",
      "4. Search Contact\n",
      "5. Sort Contacts\n",
      "6. Display Contacts\n",
      "7. Exit\n"
     ]
    },
    {
     "name": "stdin",
     "output_type": "stream",
     "text": [
      "Choose an option (1-7):  1\n",
      "Enter name:  Ritika\n",
      "Enter phone number:  876543\n",
      "Enter email:  ritika1@gmail.com\n"
     ]
    },
    {
     "name": "stdout",
     "output_type": "stream",
     "text": [
      "Contact added successfully!\n",
      "\n",
      "Contact Organizer\n",
      "1. Add Contact\n",
      "2. Delete Contact\n",
      "3. Edit Contact\n",
      "4. Search Contact\n",
      "5. Sort Contacts\n",
      "6. Display Contacts\n",
      "7. Exit\n"
     ]
    },
    {
     "name": "stdin",
     "output_type": "stream",
     "text": [
      "Choose an option (1-7):  1\n",
      "Enter name:  emily\n",
      "Enter phone number:  2345689\n",
      "Enter email:  emily@gmail.com\n"
     ]
    },
    {
     "name": "stdout",
     "output_type": "stream",
     "text": [
      "Contact added successfully!\n",
      "\n",
      "Contact Organizer\n",
      "1. Add Contact\n",
      "2. Delete Contact\n",
      "3. Edit Contact\n",
      "4. Search Contact\n",
      "5. Sort Contacts\n",
      "6. Display Contacts\n",
      "7. Exit\n"
     ]
    },
    {
     "name": "stdin",
     "output_type": "stream",
     "text": [
      "Choose an option (1-7):  2\n",
      "Enter name of the contact to delete:  Ritika\n"
     ]
    },
    {
     "name": "stdout",
     "output_type": "stream",
     "text": [
      "Contact deleted successfully!\n",
      "\n",
      "Contact Organizer\n",
      "1. Add Contact\n",
      "2. Delete Contact\n",
      "3. Edit Contact\n",
      "4. Search Contact\n",
      "5. Sort Contacts\n",
      "6. Display Contacts\n",
      "7. Exit\n"
     ]
    },
    {
     "name": "stdin",
     "output_type": "stream",
     "text": [
      "Choose an option (1-7):  3\n",
      "Enter name of the contact to edit:  anjali\n",
      "Enter new name (leave blank to keep unchanged):  \n",
      "Enter new phone number (leave blank to keep unchanged):  \n",
      "Enter new email (leave blank to keep unchanged):  \n"
     ]
    },
    {
     "name": "stdout",
     "output_type": "stream",
     "text": [
      "Contact updated successfully!\n",
      "\n",
      "Contact Organizer\n",
      "1. Add Contact\n",
      "2. Delete Contact\n",
      "3. Edit Contact\n",
      "4. Search Contact\n",
      "5. Sort Contacts\n",
      "6. Display Contacts\n",
      "7. Exit\n"
     ]
    },
    {
     "name": "stdin",
     "output_type": "stream",
     "text": [
      "Choose an option (1-7):  4\n",
      "Enter name to search:  emily\n"
     ]
    },
    {
     "name": "stdout",
     "output_type": "stream",
     "text": [
      "Search Results:\n",
      "Contact(name=emily, phone_number=2345689, email=emily@gmail.com)\n",
      "\n",
      "Contact Organizer\n",
      "1. Add Contact\n",
      "2. Delete Contact\n",
      "3. Edit Contact\n",
      "4. Search Contact\n",
      "5. Sort Contacts\n",
      "6. Display Contacts\n",
      "7. Exit\n"
     ]
    },
    {
     "name": "stdin",
     "output_type": "stream",
     "text": [
      "Choose an option (1-7):  6\n"
     ]
    },
    {
     "name": "stdout",
     "output_type": "stream",
     "text": [
      "Contact List:\n",
      "Contact(name=Anjali, phone_number=123456, email=anjali@gmail.com)\n",
      "Contact(name=emily, phone_number=2345689, email=emily@gmail.com)\n",
      "\n",
      "Contact Organizer\n",
      "1. Add Contact\n",
      "2. Delete Contact\n",
      "3. Edit Contact\n",
      "4. Search Contact\n",
      "5. Sort Contacts\n",
      "6. Display Contacts\n",
      "7. Exit\n"
     ]
    },
    {
     "name": "stdin",
     "output_type": "stream",
     "text": [
      "Choose an option (1-7):  7\n"
     ]
    },
    {
     "name": "stdout",
     "output_type": "stream",
     "text": [
      "Exiting Contact Organizer. Goodbye!\n"
     ]
    }
   ],
   "source": [
    "class Contact:\n",
    "    def __init__(self, name, phone_number, email):\n",
    "        self.name = name\n",
    "        self.phone_number = phone_number\n",
    "        self.email = email\n",
    "\n",
    "    def __repr__(self):\n",
    "        return f\"Contact(name={self.name}, phone_number={self.phone_number}, email={self.email})\"\n",
    "\n",
    "def quick_sort(contacts, key):\n",
    "    if len(contacts) <= 1:\n",
    "        return contacts\n",
    "\n",
    "    pivot = contacts[0]\n",
    "    less = [contact for contact in contacts[1:] if getattr(contact, key) <= getattr(pivot, key)]\n",
    "    greater = [contact for contact in contacts[1:] if getattr(contact, key) > getattr(pivot, key)]\n",
    "\n",
    "    return quick_sort(less, key) + [pivot] + quick_sort(greater, key)\n",
    "\n",
    "class ContactOrganizer:\n",
    "    def __init__(self):\n",
    "        self.contacts = []\n",
    "\n",
    "    def add_contact(self, name, phone_number, email):\n",
    "        contact = Contact(name, phone_number, email)\n",
    "        self.contacts.append(contact)\n",
    "\n",
    "    def delete_contact(self, name):\n",
    "        self.contacts = [contact for contact in self.contacts if contact.name != name]\n",
    "\n",
    "    def edit_contact(self, name, new_name=None, new_phone=None, new_email=None):\n",
    "        for contact in self.contacts:\n",
    "            if contact.name.lower() == name.lower():\n",
    "                if new_name:\n",
    "                    contact.name = new_name\n",
    "                if new_phone:\n",
    "                    contact.phone_number = new_phone\n",
    "                if new_email:\n",
    "                    contact.email = new_email\n",
    "                return True\n",
    "        return False\n",
    "\n",
    "    def search_contact(self, name):\n",
    "        return [contact for contact in self.contacts if name.lower() in contact.name.lower()]\n",
    "\n",
    "    def sort_contacts(self, key='name'):\n",
    "        if key in ['name', 'phone_number', 'email']:\n",
    "            self.contacts = quick_sort(self.contacts, key)\n",
    "\n",
    "    def display_contacts(self):\n",
    "        for contact in self.contacts:\n",
    "            print(contact)\n",
    "\n",
    "def main():\n",
    "    organizer = ContactOrganizer()\n",
    "    \n",
    "    while True:\n",
    "        print(\"\\nContact Organizer\")\n",
    "        print(\"1. Add Contact\")\n",
    "        print(\"2. Delete Contact\")\n",
    "        print(\"3. Edit Contact\")\n",
    "        print(\"4. Search Contact\")\n",
    "        print(\"5. Sort Contacts\")\n",
    "        print(\"6. Display Contacts\")\n",
    "        print(\"7. Exit\")\n",
    "        \n",
    "        choice = input(\"Choose an option (1-7): \")\n",
    "        \n",
    "        if choice == '1':\n",
    "            name = input(\"Enter name: \")\n",
    "            phone = input(\"Enter phone number: \")\n",
    "            email = input(\"Enter email: \")\n",
    "            organizer.add_contact(name, phone, email)\n",
    "            print(\"Contact added successfully!\")\n",
    "        \n",
    "        elif choice == '2':\n",
    "            name = input(\"Enter name of the contact to delete: \")\n",
    "            organizer.delete_contact(name)\n",
    "            print(\"Contact deleted successfully!\")\n",
    "        \n",
    "        elif choice == '3':\n",
    "            name = input(\"Enter name of the contact to edit: \")\n",
    "            new_name = input(\"Enter new name (leave blank to keep unchanged): \")\n",
    "            new_phone = input(\"Enter new phone number (leave blank to keep unchanged): \")\n",
    "            new_email = input(\"Enter new email (leave blank to keep unchanged): \")\n",
    "            if organizer.edit_contact(name, new_name or None, new_phone or None, new_email or None):\n",
    "                print(\"Contact updated successfully!\")\n",
    "            else:\n",
    "                print(\"Contact not found.\")\n",
    "        \n",
    "        elif choice == '4':\n",
    "            name = input(\"Enter name to search: \")\n",
    "            results = organizer.search_contact(name)\n",
    "            if results:\n",
    "                print(\"Search Results:\")\n",
    "                for contact in results:\n",
    "                    print(contact)\n",
    "            else:\n",
    "                print(\"No contacts found.\")\n",
    "        \n",
    "        elif choice == '5':\n",
    "            sort_key = input(\"Enter sorting criterion ('name', 'phone_number', or 'email'): \").strip()\n",
    "            if sort_key in ['name', 'phone_number', 'email']:\n",
    "                organizer.sort_contacts(sort_key)\n",
    "                print(f\"Contacts sorted by {sort_key}.\")\n",
    "            else:\n",
    "                print(\"Invalid sorting criterion.\")\n",
    "        \n",
    "        elif choice == '6':\n",
    "            print(\"Contact List:\")\n",
    "            organizer.display_contacts()\n",
    "        \n",
    "        elif choice == '7':\n",
    "            print(\"Exiting Contact Organizer. Goodbye!\")\n",
    "            break\n",
    "        \n",
    "        else:\n",
    "            print(\"Invalid choice. Please choose a valid option.\")\n",
    "\n",
    "if __name__ == \"__main__\":\n",
    "    main()\n"
   ]
  },
  {
   "cell_type": "code",
   "execution_count": null,
   "id": "1385a64f-d32f-451d-8b7e-9706d3aaab6e",
   "metadata": {},
   "outputs": [],
   "source": []
  }
 ],
 "metadata": {
  "kernelspec": {
   "display_name": "Python 3 (ipykernel)",
   "language": "python",
   "name": "python3"
  },
  "language_info": {
   "codemirror_mode": {
    "name": "ipython",
    "version": 3
   },
   "file_extension": ".py",
   "mimetype": "text/x-python",
   "name": "python",
   "nbconvert_exporter": "python",
   "pygments_lexer": "ipython3",
   "version": "3.12.4"
  }
 },
 "nbformat": 4,
 "nbformat_minor": 5
}
